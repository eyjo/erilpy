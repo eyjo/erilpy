{
 "cells": [
  {
   "cell_type": "markdown",
   "metadata": {},
   "source": [
    "# Python 3 Crash Course\n",
    "\n",
    "Forritunarmálið Python er eitt af mörgum sem hægt er að keyra í Jupyter Notebook.\n",
    "\n",
    "Hlekkir:\n",
    "- [Python](https://www.python.org/) forritunarmálið\n",
    "- [PyPI](https://pypi.org/) pakka hirslan\n",
    "- [Jupyter Notebook](https://jupyter.org/)\n",
    "\n",
    "DataFrames:\n",
    "- [Pandas](https://pandas.pydata.org/)\n",
    "- [Polars](https://www.pola.rs/)\n",
    "\n",
    "Gröf og myndir:\n",
    "- [Matplotlib](https://matplotlib.org/)\n",
    "- [Seaborn](https://seaborn.pydata.org/)\n",
    "- [Plotly](https://plotly.com/)\n",
    "\n",
    "Vefsköfun:\n",
    "- [Requests](https://requests.readthedocs.io/en/latest/)\n",
    "- [Scrapy](https://scrapy.org/)\n",
    "- [HTTPX](https://www.python-httpx.org/)\n",
    "\n",
    "Vefsíðugerð:\n",
    "- [Streamlit](https://streamlit.io)\n",
    "- [Starlette](https://www.starlette.io/)\n",
    "- [FastAPI](https://fastapi.tiangolo.com/)\n",
    "- [Django](https://www.djangoproject.com/)\n",
    "- [Flask](https://palletsprojects.com/p/flask/)\n",
    "\n",
    "Annað:\n",
    "- [Dask](https://www.dask.org/)\n"
   ]
  },
  {
   "cell_type": "code",
   "execution_count": null,
   "metadata": {},
   "outputs": [],
   "source": [
    "# Grunnpakkar\n",
    "import math\n",
    "import datetime\n",
    "import re\n",
    "\n",
    "# Til að skrapa vefsíður\n",
    "import requests\n",
    "import scrapy\n",
    "import httpx\n",
    "\n",
    "# Fyrir gögn\n",
    "import numpy as np\n",
    "import pandas as pd\n",
    "import matplotlib.pyplot as plt\n",
    "import seaborn as sns"
   ]
  }
 ],
 "metadata": {
  "language_info": {
   "name": "python"
  }
 },
 "nbformat": 4,
 "nbformat_minor": 2
}
